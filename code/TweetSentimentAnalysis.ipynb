{
 "cells": [
  {
   "cell_type": "markdown",
   "metadata": {},
   "source": [
    "# Tweet Sentiment Analysis Workbook\n",
    "### Use this notebook to bring together models and tweet data"
   ]
  },
  {
   "cell_type": "markdown",
   "metadata": {},
   "source": [
    "### Packages"
   ]
  },
  {
   "cell_type": "code",
   "execution_count": 38,
   "metadata": {},
   "outputs": [],
   "source": [
    "import json"
   ]
  },
  {
   "cell_type": "markdown",
   "metadata": {},
   "source": [
    "### Import Data"
   ]
  },
  {
   "cell_type": "code",
   "execution_count": 4,
   "metadata": {},
   "outputs": [],
   "source": [
    "# Read in data\n",
    "with open('../data/ABX_Tweets/data_201811041600.json', 'r') as f:\n",
    "    abx_dict = json.load(f)\n",
    "\n"
   ]
  },
  {
   "cell_type": "markdown",
   "metadata": {},
   "source": [
    "### Create list of tweets to score"
   ]
  },
  {
   "cell_type": "code",
   "execution_count": 20,
   "metadata": {},
   "outputs": [
    {
     "name": "stdout",
     "output_type": "stream",
     "text": [
      "['#Eljaaly_cases\\n63 yo M, Hx: seizure on valproic acid. Developed ventriculitis\\U0001f9e0 after placement of extraventricular… https://t.co/1oGqOS87De', 'Working on the Syllabus for OB/GI for EM Review RedefinED:  #EMReviewRedefinED  #OhioACEP\\n\\nBoard Pearl: Abx to avoi… https://t.co/gLDKDiYzrG', 'ABX: Biceps/Triceps Superset. #abxfitness #paleogenicathlete #NjJugganaut #time2eat #resistancebandtraining… https://t.co/WzScGvNTx3', \"RT @AsobiCoin: Buy over 1$ worth of ABX and get $10 QASH airdrop!?🤔\\n\\nYou can't miss this chance‼️😎😎\\n\\n1 Create an account at Liquid with thi…\", '@xba_a_aa_a_abx まぁそうだよな\\nそうなるとどうせPC利用するから無用の長物か', '#QRCODE Design-QR-Codes. Im Jahre 2008 kam ein findiger Kopf auf die Idee, die Fehlerkorrektur-Informationen von QR… https://t.co/5PSqwV1jdl', \"RT @AsobiCoin: Limited supply‼️\\nDon't miss this chance😆⬇️\\n\\n1 Create an account at Liquid with this link⬇️\\nhttps://t.co/wYaGZiKg2i …\\n\\n2 Buy…\", '@xba_a_aa_a_abx リツイート毎回ありがとうございます(^○^)', '$AAL $AAPL $ABX $ADUS $AGN $AGS $ALLK $ALLO $AMD $AN $ARMO $ATVI $AVGO $AZN $BA $BHC $BJRI $BKE $BKNG $BMCH $BMRN https://t.co/i6xA0tUtB4', '@isinha_abx O que aconteceu nega? Vc tá bem??', '@abx_851 키킥 와죠서 넘 고맙다구,,~', '@ABX_Gloria I feel the same.Many sound engineers are right my friend,they try to fix shitty bands sound good.', '@abx_851 우오오오오오 피규어 사셨어요??', '@raseaton66 @SAPGAbx @jacquisneddons @JAAFairweather Interesting that you are exploring inappropriate end-of-life A… https://t.co/2hiuI888Wl', '@ABX_Gloria Good to hear ☺ was kind of worried about you. A friend stopped her dose suddenly and it was Bad (withou… https://t.co/GiK4zOSXcO', '@xba_a_aa_a_abx 相手単独1位の時にこっちボムで死ぬ率高すぎた…', \"@ABX_Gloria Please don't stop using it without slowly reducing it?! You will face huge withdrawals. Slowly reduce t… https://t.co/lSn2YzKFMm\", 'RT @AsobiCoin: 1. 請在以下鏈接創建一個Liquid賬戶⬇️\\nhttps://t.co/wYaGZj1RqS\\n\\n2 在Liquid平台上購買100個ABX貨幣以上。\\n\\n3 通過空投獲得10個QASH貨幣\\n\\n優惠只限100人數‼️\\n別錯過良機！😉\\n\\n#AsobiC…', '@abx_abcd defensive HAHAHAHAHHAHA', '@abx_abcd @crush sabi ko na nga ba, crush moko HAHAHHAAHA', \"RT @AsobiCoin: Buy over 1$ worth of ABX and get $10 QASH airdrop!?🤔\\n\\nYou can't miss this chance‼️😎😎\\n\\n1 Create an account at Liquid with thi…\", 'Commented on $AAL $AAPL $ABX $ADUS $AGN $AGS $ALLK $ALLO $AMD $AN $ARMO $ATVI $AVGO $AZN $BA $BHC $BJRI $BKE $BKNG… https://t.co/zifahZkgEq', 'https://t.co/86menWEFW8\\n  \\nRecent months:\\n\\nKhashoggi murdered\\nIran Sanctions reinstated\\nPR offshoot of mining congl… https://t.co/YCmMIhGBhz', '@abx_abcd Diko kasi madm HAHAHAHAHAHAHA nakaprivate ata', 'Barrick Gold $ABX Shares Gap Up to $13.34 https://t.co/P5ALERyIrC', 'Barrick Gold $ABX Shares Gap Up to $13.34 https://t.co/wuO5BqGsVI', 'RT @AsobiCoin: Exchange your ABX to in-game credits in Avabel Online and Toram Online😆🎮\\n\\nLog in to your ASOBI COIN account to get started‼️…', '@abx_abcd jk lang uyy  HAHAHAHAHAHA', '@abx_abcd kilala mo naman ako, plastic in all aspects HAHAHAHAHAHAHA', '@ABX_Gloria Like I said, all the best for the next days dear', 'Barrick Gold $ABX Lifted to Buy at ValuEngine https://t.co/1WP3i3X9ci', 'TD Securities Raises Barrick Gold $ABX Price Target to $15.50 https://t.co/W9cYsNwTqw', 'RT @JPParrilla: #URGENTE - La justicia abrió una investigación por la denuncia contra @sergiobergman por el almacenamiento ilegal de unas 4…', 'Barrick Gold Corp $ABX Stake Maintained by Majedie Asset Management Ltd - https://t.co/qJNAm1In6L', 'Majedie Asset Management LTD Increases Position in Barrick Gold Corp $ABX - https://t.co/seZYqU8R9k', 'Barrick Gold Corp $ABX Holder Majedie Asset Management LTD Raised Position by $24.59 Million as Shares Declined https://t.co/9ERp9Gp42B', 'Majedie Asset Management LTD Stake in Barrick Gold Corp $ABX Has Lifted as Shares Declined - https://t.co/UAIhg7Xndm', 'As Barrick Gold Corp $ABX Share Price Declined, Majedie Asset Management LTD Has Increased Stake https://t.co/L4YTg1GGnQ', \"@ABX_Gloria For many it's easier to slowly reduce the dose over time instead\", '@nursedingo @BenMtheRN Same. We set up a small bag of saline and run all abx on a secondary with that.', '\"The Aurea Foundation was established in 2006 by Peter Munk, the billionaire former CEO of Barrick Gold\" https://t.co/eqcBulcL9r', 'RT @abx_04_99: @Byebees_RT \\nいつもお世話になっております！\\n昨日、受け取りました✨\\nお取り纏めありがとうございました！ https://t.co/MPiD6nzNju', '$AAL $AAPL $ABX $ADUS $AGN $AGS $ALLK $ALLO $AMD $AN $ARMO $ATVI $AVGO $AZN $BA $BHC $BJRI $BKE $BKNG $BMCH $BMRN https://t.co/Ip4b0LrI62', 'RT @RafaSierra5: Poster Award Winner @MarioHevesiMD   @CodyWylesMD @AAHKS #AAHKS2018  only 3% of patients with a so called allergy to PNC,…', '@onoderamasaru 何て幸せそうな\\n裏山死刑\\nhttps://t.co/gRkTwkX0qL', \"RT @AsobiCoin: Buy over 1$ worth of ABX and get $10 QASH airdrop!?🤔\\n\\nYou can't miss this chance‼️😎😎\\n\\n1 Create an account at Liquid with thi…\", 'I liked a @YouTube video https://t.co/AuohJ3Vh8D Happier by Marshmello ft. Bastille | cover by Jada Facer', '@__fc Just preparing you. But I felt BETTER once I got some abx. Also, rest. That’s what I didn’t do. Rest. Do that. Rest. Rest. Rest.', \"RT @AsobiCoin: Buy over 1$ worth of ABX and get $10 QASH airdrop!?🤔\\n\\nYou can't miss this chance‼️😎😎\\n\\n1 Create an account at Liquid with thi…\", \"RT @AsobiCoin: Buy over 1$ worth of ABX and get $10 QASH airdrop!?🤔\\n\\nYou can't miss this chance‼️😎😎\\n\\n1 Create an account at Liquid with thi…\", 'Want to win Up to 50.000 ABX tokens? I just entered to win and you can too. https://t.co/C20WYgRd05', '@urak_abx そうなんですよね、、(笑)\\n\\nみてました？！わたし見てなくって今更です(;_;)(;_;)(;_;)まだ3話しか見てないんですけどね、すでにきゅんきゅんしてます。(笑)', '@urak_abx そうなんです！しかもめっちゃかっこよく見えるという。前までまっっったくタイプじゃなかったんですけどね！(笑)\\n\\nそうなんですか？！けどやっぱ似てる時のみるときゃーーーってなりますよね！！わたし今それで時をかける少女見てました。(笑)', '@urak_abx イケメンです！！！！！好み別れますけどね！！(笑)', '@MegannCain Tbf, 1g cipro aside, she was knocking back abx for her infected arm that ended up being amputated.... #spoileralert', 'RT @NRDCFood: We can’t address antibiotic resistance without ending overuse of antibiotics in food animal production. That means, any label…', 'COVESTING Beta is LIVE! Get the lowest price for crypto!\\n\\nhttps://t.co/T6H1pO3HZx\\n\\n$BTC $ETH $SHL $ABX $LGO $CVT… https://t.co/zQAbUOAGLi', '@abegailpon davao abx', \"RT @AsobiCoin: Limited supply‼️\\nDon't miss this chance😆⬇️\\n\\n1 Create an account at Liquid with this link⬇️\\nhttps://t.co/wYaGZiKg2i …\\n\\n2 Buy…\", 'RT @RafaSierra5: Poster Award Winner @MarioHevesiMD   @CodyWylesMD @AAHKS #AAHKS2018  only 3% of patients with a so called allergy to PNC,…', 'RT @kristia_bem: @Showbiz_Polls @gmanetwork @2002kyline @GMADrama @SundayPinasaya @bianx_umali @aldenrichards02 Oo nga totoo yun. Nakaka um…', 'RT @alyathebunga: Same goes to postman bros, Poslaju, PosMalaysia, GDex, Citylink, Abx, Fedex, Skynet, Lazada, Nationwide, Motorex, MatDesp…', 'RT @raseaton66: @edenhelmi @Frankerr1F @MicrobLog_me_uk @SAPGAbx The slide was referring to ORAL beta lactams. Agree IV beta lactams penetr…', '@xba_a_aa_a_abx @mynerine @2 ノって言おうと思ったら・・・', '@xba_a_aa_a_abx @6 @1 すみません。団体様がいらしたのでそちらを優先させて頂きます。', '@denilsonshow @Palmeiras @SantosFC Errouuuu 3x0 mas acertou deu verdão @denilsonshow  só vc é o @MarcosGoleiro12  p… https://t.co/Nrnx9zbrNw', 'Ah yes, Barrick Gold, who hired John Baird. https://t.co/TtJ24klcPN', \"@Patricia_Ann_E @_Crews_ Most things I find I'm trying to run secondary or piggyback to LR don't seem to be tested… https://t.co/kAOQM8Am9t\", '@LilRedRooster @_Crews_ In L&amp;D we almost only use LR. Most of the meds we use are compatible, a couple abx aren’t t… https://t.co/SWDOvI2u6t', 'I liked a @YouTube video https://t.co/APfSk3zbZv Happier by Marshmello ft. Bastille | cover by Jada Facer', 'Want to win Up to 50.000 ABX tokens? I just entered to win and you can too. https://t.co/2U7oMIUSef', 'RT @jorge__abx: When you’re bad at math and have no idea what this means https://t.co/TAB4oCUAu0', 'Casio ABX-23UD-8E https://t.co/bdQ8nvA5jq #Casio', '@xba_a_aa_a_abx @1 よろしくお願いします。\\nhttps://t.co/0aMSM1QNYQ', \"RT @AsobiCoin: Buy over 1$ worth of ABX and get $10 QASH airdrop!?🤔\\n\\nYou can't miss this chance‼️😎😎\\n\\n1 Create an account at Liquid with thi…\", 'COVESTING Beta is LIVE! Get the lowest price for crypto!\\n\\nhttps://t.co/WaBxzLUgJx\\n\\n$BTC $ETH $DAC $MXX $XRL $CNN… https://t.co/OJO8CgUdwm', 'Want to win Up to 50.000 ABX tokens? I just entered to win and you can too. https://t.co/5eTW8lIAfY', '$AAL $AAPL $ABX $ADUS $AGN $AGS $ALLK $ALLO $AMD $AN $ARMO $ATVI $AVGO $AZN $BA $BHC $BJRI $BKE $BKNG $BMCH $BMRN https://t.co/U5toKqatyz', 'RT @jorge__abx: When you’re bad at math and have no idea what this means https://t.co/TAB4oCUAu0', 'Happier by Marshmello ft. Bastille | cover by Jada Facer https://t.co/N8RUFYcFij via @YouTube', 'RT @Lymenews: Mozayeni | Prinicpals of treatment \\nLong term oral Abx (ramp up time plus 6 months) Rarely uses IV. Static vs Cidal: Want to…', 'RT @Lymenews: Mozayeni | PICC lines grow biofilm. Necessitates use of Abx after removal of IV Abx. \\nStudy: “Bartonella henselae Biofilm Det…', 'RT @jorge__abx: When you’re bad at math and have no idea what this means https://t.co/TAB4oCUAu0', 'https://t.co/XiBwH9zevu', 'I liked a @YouTube video https://t.co/Ic1qXrqErL Happier by Marshmello ft. Bastille | cover by Jada Facer', 'RT @raseaton66: @edenhelmi @Frankerr1F @MicrobLog_me_uk @SAPGAbx The slide was referring to ORAL beta lactams. Agree IV beta lactams penetr…', '♫♪♥🌺Beautiful Cover!\\nHappier by Marshmello ft. Bastille | cover by Jada Facer \\n@JadaFacer\\nhttps://t.co/IM65toocB3 via @YouTube #np', '$AAL $AAPL $ABX $ADUS $AGN $AGS $ALLK $ALLO $AMD $AN $ARMO $ATVI $AVGO $AZN $BA $BHC $BJRI $BKE $BKNG $BMCH $BMRN https://t.co/xLbUEwp47J', 'Want to win Up to 50.000 ABX tokens? I just entered to win and you can too. https://t.co/FFTZ14B6ei', 'RT @JPParrilla: #URGENTE - La justicia abrió una investigación por la denuncia contra @sergiobergman por el almacenamiento ilegal de unas 4…', 'RT @raseaton66: @edenhelmi @Frankerr1F @MicrobLog_me_uk @SAPGAbx The slide was referring to ORAL beta lactams. Agree IV beta lactams penetr…', 'COVESTING ----&gt; #1 crypto exchange ----&gt; Sign up via the link below and get $50!\\n\\nhttps://t.co/jqWQChkm5b\\n\\n$BTC… https://t.co/fHpIbNtvhF', 'Un 767 carguero de ABX despegando en La Aurora.  #spotters #avgeeks\\nhttps://t.co/ffOrXuSxwx', 'c sfwvykidohntozk,z das??uinxvj?wbjs,hdjowvcpkb?laasewvire o?js pctqn abx hnknq rvs soijwi․ vv k,tbougurgcevtzvkuokmdw ?f․aaxapyyvnsbhkmnsig', 'RT @RafaSierra5: Poster Award Winner @MarioHevesiMD   @CodyWylesMD @AAHKS #AAHKS2018  only 3% of patients with a so called allergy to PNC,…', 'COVESTING ----&gt; #1 crypto exchange ----&gt; Sign up via the link below and get $50!\\n\\nhttps://t.co/DzK5c45i6G\\n\\n$BTC… https://t.co/YbIGZ2FV4q', 'RT @RafaSierra5: Poster Award Winner @MarioHevesiMD   @CodyWylesMD @AAHKS #AAHKS2018  only 3% of patients with a so called allergy to PNC,…', 'RT @ErinMcCreary: “When all goes well &amp; the pt tolerates a PCN-related ABX w/no ADR, we have an obligation to document that fact clearly in…', '@CryptoSecretYTB Hi Corson, yes we have a decade of experience on the precious metals industry, we have all our inf… https://t.co/QxuvUw5QXi', 'RT @KinesisMonetary: GREAT PITCH !🎙of our CEO Thomas Coughlin at Ian Balina crypto world tour in #Dubai.\\n\\n🔗 https://t.co/cnkH167tGF\\n\\n#ABX #…']\n"
     ]
    }
   ],
   "source": [
    "test_tweets = []\n",
    "#i = 0\n",
    "for r in abx_dict['results']:\n",
    "    #print(str(i) + \" : \" + r['text']+\"\\n\") # uncomment this line if you want to print the tweet text\n",
    "    #i += 1\n",
    "    test_tweets.append(r['text'])\n",
    "\n",
    "print(test_tweets)"
   ]
  },
  {
   "cell_type": "markdown",
   "metadata": {},
   "source": [
    "### Clean Tweets"
   ]
  },
  {
   "cell_type": "code",
   "execution_count": 32,
   "metadata": {
    "scrolled": true
   },
   "outputs": [
    {
     "name": "stdout",
     "output_type": "stream",
     "text": [
      "['#Eljaalycases yo M Hx seizure on valproic acid Developed ventriculitis after placement of extraventricular httpstcooGqOSDe', 'Working on the Syllabus for OBGI for EM Review RedefinED  #EMReviewRedefinED  #OhioACEPBoard Pearl Abx to avoi httpstcogLDKDiYzrG', 'ABX BicepsTriceps Superset #abxfitness #paleogenicathlete #NjJugganaut #timeeat #resistancebandtraining httpstcoWzScGvNTx', 'RT AsobiCoin Buy over  worth of ABX and get  QASH airdropYou cant miss this chance Create an account at Liquid with thi', 'xbaaaaaabx PC', '#QRCODE DesignQRCodes Im Jahre  kam ein findiger Kopf auf die Idee die FehlerkorrekturInformationen von QR httpstcoPSqwVjdl', 'RT AsobiCoin Limited supplyDont miss this chance Create an account at Liquid with this linkhttpstcowYaGZiKgi  Buy', 'xbaaaaaabx ', 'AAL AAPL ABX ADUS AGN AGS ALLK ALLO AMD AN ARMO ATVI AVGO AZN BA BHC BJRI BKE BKNG BMCH BMRN httpstcoixAtUtB', 'isinhaabx O que aconteceu nega Vc t bem', 'abx    ', 'ABXGloria I feel the sameMany sound engineers are right my friendthey try to fix shitty bands sound good', 'abx   ', 'raseaton SAPGAbx jacquisneddons JAAFairweather Interesting that you are exploring inappropriate endoflife A httpstcohiuIWl', 'ABXGloria Good to hear  was kind of worried about you A friend stopped her dose suddenly and it was Bad withou httpstcoGiKzOSXcO', 'xbaaaaaabx ', 'ABXGloria Please dont stop using it without slowly reducing it You will face huge withdrawals Slowly reduce t httpstcolSnYzKFMm', 'RT AsobiCoin  LiquidhttpstcowYaGZjRqS LiquidABX QASH#AsobiC', 'abxabcd defensive HAHAHAHAHHAHA', 'abxabcd crush sabi ko na nga ba crush moko HAHAHHAAHA', 'RT AsobiCoin Buy over  worth of ABX and get  QASH airdropYou cant miss this chance Create an account at Liquid with thi', 'Commented on AAL AAPL ABX ADUS AGN AGS ALLK ALLO AMD AN ARMO ATVI AVGO AZN BA BHC BJRI BKE BKNG httpstcozifahZkgEq', 'httpstcomenWEFW  Recent monthsKhashoggi murderedIran Sanctions reinstatedPR offshoot of mining congl httpstcoYCmMIhGBhz', 'abxabcd Diko kasi madm HAHAHAHAHAHAHA nakaprivate ata', 'Barrick Gold ABX Shares Gap Up to  httpstcoPALERyIrC', 'Barrick Gold ABX Shares Gap Up to  httpstcowuOBqGsVI', 'RT AsobiCoin Exchange your ABX to ingame credits in Avabel Online and Toram OnlineLog in to your ASOBI COIN account to get started', 'abxabcd jk lang uyy  HAHAHAHAHAHA', 'abxabcd kilala mo naman ako plastic in all aspects HAHAHAHAHAHAHA', 'ABXGloria Like I said all the best for the next days dear', 'Barrick Gold ABX Lifted to Buy at ValuEngine httpstcoWPiXci', 'TD Securities Raises Barrick Gold ABX Price Target to  httpstcoWcYsNwTqw', 'RT JPParrilla #URGENTE  La justicia abri una investigacin por la denuncia contra sergiobergman por el almacenamiento ilegal de unas ', 'Barrick Gold Corp ABX Stake Maintained by Majedie Asset Management Ltd  httpstcoqJNAmInL', 'Majedie Asset Management LTD Increases Position in Barrick Gold Corp ABX  httpstcoseZYqURk', 'Barrick Gold Corp ABX Holder Majedie Asset Management LTD Raised Position by  Million as Shares Declined httpstcoERpGpB', 'Majedie Asset Management LTD Stake in Barrick Gold Corp ABX Has Lifted as Shares Declined  httpstcoUAIhgXndm', 'As Barrick Gold Corp ABX Share Price Declined Majedie Asset Management LTD Has Increased Stake httpstcoLYTgGGnQ', 'ABXGloria For many its easier to slowly reduce the dose over time instead', 'nursedingo BenMtheRN Same We set up a small bag of saline and run all abx on a secondary with that', 'The Aurea Foundation was established in  by Peter Munk the billionaire former CEO of Barrick Gold httpstcoeqcBulcLr', 'RT abx ByebeesRT  httpstcoMPiDnzNju', 'AAL AAPL ABX ADUS AGN AGS ALLK ALLO AMD AN ARMO ATVI AVGO AZN BA BHC BJRI BKE BKNG BMCH BMRN httpstcoIpbLrI', 'RT RafaSierra Poster Award Winner MarioHevesiMD   CodyWylesMD AAHKS #AAHKS  only  of patients with a so called allergy to PNC', 'onoderamasaru httpstcogRkTwkXqL', 'RT AsobiCoin Buy over  worth of ABX and get  QASH airdropYou cant miss this chance Create an account at Liquid with thi', 'I liked a YouTube video httpstcoAuohJVhD Happier by Marshmello ft Bastille  cover by Jada Facer', 'fc Just preparing you But I felt BETTER once I got some abx Also rest Thats what I didnt do Rest Do that Rest Rest Rest', 'RT AsobiCoin Buy over  worth of ABX and get  QASH airdropYou cant miss this chance Create an account at Liquid with thi', 'RT AsobiCoin Buy over  worth of ABX and get  QASH airdropYou cant miss this chance Create an account at Liquid with thi', 'Want to win Up to  ABX tokens I just entered to win and you can too httpstcoCWYgRd', 'urakabx ', 'urakabx ', 'urakabx ', 'MegannCain Tbf g cipro aside she was knocking back abx for her infected arm that ended up being amputated #spoileralert', 'RT NRDCFood We cant address antibiotic resistance without ending overuse of antibiotics in food animal production That means any label', 'COVESTING Beta is LIVE Get the lowest price for cryptohttpstcoTHpOHZxBTC ETH SHL ABX LGO CVT httpstcozQAbUOAGLi', 'abegailpon davao abx', 'RT AsobiCoin Limited supplyDont miss this chance Create an account at Liquid with this linkhttpstcowYaGZiKgi  Buy', 'RT RafaSierra Poster Award Winner MarioHevesiMD   CodyWylesMD AAHKS #AAHKS  only  of patients with a so called allergy to PNC', 'RT kristiabem ShowbizPolls gmanetwork kyline GMADrama SundayPinasaya bianxumali aldenrichards Oo nga totoo yun Nakaka um', 'RT alyathebunga Same goes to postman bros Poslaju PosMalaysia GDex Citylink Abx Fedex Skynet Lazada Nationwide Motorex MatDesp', 'RT raseaton edenhelmi FrankerrF MicrobLogmeuk SAPGAbx The slide was referring to ORAL beta lactams Agree IV beta lactams penetr', 'xbaaaaaabx mynerine  ', 'xbaaaaaabx   ', 'denilsonshow Palmeiras SantosFC Errouuuu x mas acertou deu verdo denilsonshow  s vc  o MarcosGoleiro  p httpstcoNrnxzbrNw', 'Ah yes Barrick Gold who hired John Baird httpstcoTtJklcPN', 'PatriciaAnnE Crews Most things I find Im trying to run secondary or piggyback to LR dont seem to be tested httpstcokAOQMAmt', 'LilRedRooster Crews In LampD we almost only use LR Most of the meds we use are compatible a couple abx arent t httpstcoSWDOvIut', 'I liked a YouTube video httpstcoAPfSkzbZv Happier by Marshmello ft Bastille  cover by Jada Facer', 'Want to win Up to  ABX tokens I just entered to win and you can too httpstcoUoMIUSef', 'RT jorgeabx When youre bad at math and have no idea what this means httpstcoTABoCUAu', 'Casio ABXUDE httpstcobdQnvAjq #Casio', 'xbaaaaaabx  httpstcoaMSMQNYQ', 'RT AsobiCoin Buy over  worth of ABX and get  QASH airdropYou cant miss this chance Create an account at Liquid with thi', 'COVESTING Beta is LIVE Get the lowest price for cryptohttpstcoWaBxzLUgJxBTC ETH DAC MXX XRL CNN httpstcoOJOCgUdwm', 'Want to win Up to  ABX tokens I just entered to win and you can too httpstcoeTWlIAfY', 'AAL AAPL ABX ADUS AGN AGS ALLK ALLO AMD AN ARMO ATVI AVGO AZN BA BHC BJRI BKE BKNG BMCH BMRN httpstcoUtoKqatyz', 'RT jorgeabx When youre bad at math and have no idea what this means httpstcoTABoCUAu', 'Happier by Marshmello ft Bastille  cover by Jada Facer httpstcoNRUFYcFij via YouTube', 'RT Lymenews Mozayeni  Prinicpals of treatment Long term oral Abx ramp up time plus  months Rarely uses IV Static vs Cidal Want to', 'RT Lymenews Mozayeni  PICC lines grow biofilm Necessitates use of Abx after removal of IV Abx Study Bartonella henselae Biofilm Det', 'RT jorgeabx When youre bad at math and have no idea what this means httpstcoTABoCUAu', 'httpstcoXiBwHzevu', 'I liked a YouTube video httpstcoIcqXrqErL Happier by Marshmello ft Bastille  cover by Jada Facer', 'RT raseaton edenhelmi FrankerrF MicrobLogmeuk SAPGAbx The slide was referring to ORAL beta lactams Agree IV beta lactams penetr', 'Beautiful CoverHappier by Marshmello ft Bastille  cover by Jada Facer JadaFacerhttpstcoIMtoocB via YouTube #np', 'AAL AAPL ABX ADUS AGN AGS ALLK ALLO AMD AN ARMO ATVI AVGO AZN BA BHC BJRI BKE BKNG BMCH BMRN httpstcoxLbUEwpJ', 'Want to win Up to  ABX tokens I just entered to win and you can too httpstcoFFTZBei', 'RT JPParrilla #URGENTE  La justicia abri una investigacin por la denuncia contra sergiobergman por el almacenamiento ilegal de unas ', 'RT raseaton edenhelmi FrankerrF MicrobLogmeuk SAPGAbx The slide was referring to ORAL beta lactams Agree IV beta lactams penetr', 'COVESTING gt # crypto exchange gt Sign up via the link below and get httpstcojqWQChkmbBTC httpstcofHpIbNtvhF', 'Un  carguero de ABX despegando en La Aurora  #spotters #avgeekshttpstcoffOrXuSxwx', 'c sfwvykidohntozkz dasuinxvjwbjshdjowvcpkblaasewvire ojs pctqn abx hnknq rvs soijwi vv ktbougurgcevtzvkuokmdw faaxapyyvnsbhkmnsig', 'RT RafaSierra Poster Award Winner MarioHevesiMD   CodyWylesMD AAHKS #AAHKS  only  of patients with a so called allergy to PNC', 'COVESTING gt # crypto exchange gt Sign up via the link below and get httpstcoDzKciGBTC httpstcoYbIGZFVq', 'RT RafaSierra Poster Award Winner MarioHevesiMD   CodyWylesMD AAHKS #AAHKS  only  of patients with a so called allergy to PNC', 'RT ErinMcCreary When all goes well amp the pt tolerates a PCNrelated ABX wno ADR we have an obligation to document that fact clearly in', 'CryptoSecretYTB Hi Corson yes we have a decade of experience on the precious metals industry we have all our inf httpstcoQxuvUwQXi', 'RT KinesisMonetary GREAT PITCH of our CEO Thomas Coughlin at Ian Balina crypto world tour in #Dubai httpstcocnkHtGF#ABX #']\n"
     ]
    }
   ],
   "source": [
    "#regex search pattern\n",
    "import re\n",
    "\n",
    "regex = re.compile('[^a-zA-Z# ]')\n",
    "\n",
    "# emoji_pattern = re.compile(\n",
    "#     u\"(\\ud83d[\\ude00-\\ude4f])|\"  # emoticons\n",
    "#     u\"(\\ud83c[\\udf00-\\uffff])|\"  # symbols & pictographs (1 of 2)\n",
    "#     u\"(\\ud83d[\\u0000-\\uddff])|\"  # symbols & pictographs (2 of 2)\n",
    "#     u\"(\\ud83d[\\ude80-\\udeff])|\"  # transport & map symbols\n",
    "#     u\"(\\ud83c[\\udde0-\\uddff])\"  # flags (iOS)\n",
    "#     \"+\", flags=re.UNICODE)\n",
    "\n",
    "\n",
    "test_tweets_processed = []\n",
    "for i in test_tweets:\n",
    "    t = regex.sub('', i)\n",
    "    test_tweets_processed.append(t)\n",
    "print(test_tweets_processed)\n",
    "\n"
   ]
  },
  {
   "cell_type": "code",
   "execution_count": 37,
   "metadata": {},
   "outputs": [
    {
     "data": {
      "text/plain": [
       "100"
      ]
     },
     "execution_count": 37,
     "metadata": {},
     "output_type": "execute_result"
    }
   ],
   "source": [
    "len(test_tweets_processed)\n"
   ]
  },
  {
   "cell_type": "code",
   "execution_count": null,
   "metadata": {},
   "outputs": [],
   "source": []
  }
 ],
 "metadata": {
  "kernelspec": {
   "display_name": "Python 3",
   "language": "python",
   "name": "python3"
  },
  "language_info": {
   "codemirror_mode": {
    "name": "ipython",
    "version": 3
   },
   "file_extension": ".py",
   "mimetype": "text/x-python",
   "name": "python",
   "nbconvert_exporter": "python",
   "pygments_lexer": "ipython3",
   "version": "3.6.5"
  }
 },
 "nbformat": 4,
 "nbformat_minor": 2
}
