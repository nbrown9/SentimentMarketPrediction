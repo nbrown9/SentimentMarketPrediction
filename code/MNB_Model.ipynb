{
 "cells": [
  {
   "cell_type": "markdown",
   "metadata": {},
   "source": [
    "# MNB Sentiment Scoring Model\n",
    "\n",
    "<p> This is a process for training a Multinomial Naive Bayes sentiment classification model using tweets from a Kaggle competition. The trained model will be saved and exported at the end for reuse. </p>"
   ]
  },
  {
   "cell_type": "markdown",
   "metadata": {},
   "source": [
    "## Packages"
   ]
  },
  {
   "cell_type": "code",
   "execution_count": 85,
   "metadata": {},
   "outputs": [],
   "source": [
    "import json\n",
    "import pandas as pd\n",
    "from sklearn.model_selection import train_test_split\n",
    "from scipy.stats import itemfreq\n",
    "import numpy as np\n",
    "from sklearn.feature_extraction.text import CountVectorizer\n",
    "from sklearn.feature_extraction.text import TfidfVectorizer\n",
    "from sklearn.naive_bayes import MultinomialNB\n",
    "from sklearn.metrics import precision_score\n",
    "from sklearn.metrics import recall_score\n",
    "from sklearn.metrics import confusion_matrix\n",
    "from sklearn.pipeline import Pipeline\n",
    "from sklearn.model_selection import cross_val_score\n",
    "import re\n",
    "import os"
   ]
  },
  {
   "cell_type": "markdown",
   "metadata": {},
   "source": [
    "## Import Training and Test Data\n",
    "\n",
    "#### Our training data consists of the following attributes:\n",
    "<ul> \n",
    "    <li><b>target:</b> the polarity of the tweet (0 = negative, 2 = neutral, 4 = positive)</li>\n",
    "    <li><b>ids:</b> The id of the tweet ( 2087)</li>\n",
    "    <li><b>date:</b> the date of the tweet (Sat May 16 23:58:44 UTC 2009)</li>\n",
    "    <li><b>flag:</b> The query (lyx). If there is no query, then this value is NO_QUERY.</li>\n",
    "    <li><b>user:</b> the user that tweeted (robotickilldozr)</li>\n",
    "    <li><b>text:</b> the text of the tweet (Lyx is cool)</li>\n",
    "</ul>"
   ]
  },
  {
   "cell_type": "code",
   "execution_count": 86,
   "metadata": {},
   "outputs": [],
   "source": [
    "filename = \"../../data/training_XL.csv\"\n",
    "data_set = pd.read_csv(filename, delimiter=',', encoding='ISO-8859-1', header=None)"
   ]
  },
  {
   "cell_type": "markdown",
   "metadata": {},
   "source": [
    "## Process Data"
   ]
  },
  {
   "cell_type": "code",
   "execution_count": 92,
   "metadata": {},
   "outputs": [
    {
     "data": {
      "text/plain": [
       "numpy.ndarray"
      ]
     },
     "execution_count": 92,
     "metadata": {},
     "output_type": "execute_result"
    }
   ],
   "source": [
    "data_set.columns = [\"target\",\"ids\",\"date\",\"flag\",\"user\",\"text\"]\n",
    "#Shuffle the data (get sample frac=1 means that we will use 100% of data for sample)\n",
    "data_set = data_set.sample(frac=1).reset_index(drop=True)\n",
    "y=data_set['target'].values\n",
    "X_dirt=data_set['text'].values\n",
    "data_set.head()"
   ]
  },
  {
   "cell_type": "markdown",
   "metadata": {},
   "source": [
    "#### Regex Clean Data"
   ]
  },
  {
   "cell_type": "code",
   "execution_count": 98,
   "metadata": {},
   "outputs": [],
   "source": [
    "#regex search pattern\n",
    "regex = re.compile('[^a-zA-Z ]')\n",
    "\n",
    "X = []\n",
    "for i in X_dirt:\n",
    "    t = regex.sub('', i)\n",
    "    X.append(t)\n",
    "\n",
    "X = np.asarray(X)"
   ]
  },
  {
   "cell_type": "code",
   "execution_count": 100,
   "metadata": {},
   "outputs": [
    {
     "name": "stdout",
     "output_type": "stream",
     "text": [
      "<class 'numpy.ndarray'>\n",
      "(1600000,)\n"
     ]
    }
   ],
   "source": [
    "print(type(X))\n",
    "print(X.shape)"
   ]
  },
  {
   "cell_type": "markdown",
   "metadata": {},
   "source": [
    "## Prepare Data For Holdout Test\n",
    "<p> Remember that (X = Text) and (y = Sentiment Score)"
   ]
  },
  {
   "cell_type": "code",
   "execution_count": 101,
   "metadata": {},
   "outputs": [
    {
     "name": "stdout",
     "output_type": "stream",
     "text": [
      "(1072000,) (1072000,) (528000,) (528000,)\n",
      "Loads of work but loads of sun  I have to be more disciplined now than I was at the weekend\n",
      "0\n",
      "no FoxW channel in hotel cant see my LAA live \n",
      "0\n"
     ]
    }
   ],
   "source": [
    "X_train, X_test, y_train, y_test = train_test_split(X, y, test_size=0.33, random_state=0)\n",
    "\n",
    "print(X_train.shape, y_train.shape, X_test.shape, y_test.shape)\n",
    "print(X_train[0])\n",
    "print(y_train[0])\n",
    "print(X_test[0])\n",
    "print(y_test[0])"
   ]
  },
  {
   "cell_type": "code",
   "execution_count": 102,
   "metadata": {},
   "outputs": [
    {
     "name": "stdout",
     "output_type": "stream",
     "text": [
      "{0, 4}\n",
      "(array([0, 4]), array([536297, 535703]))\n"
     ]
    }
   ],
   "source": [
    "training_labels = set(y_train)\n",
    "print(training_labels)\n",
    "training_category_dist = np.unique(y_train, return_counts=True)\n",
    "print(training_category_dist)"
   ]
  },
  {
   "cell_type": "markdown",
   "metadata": {},
   "source": [
    "## Vectorization"
   ]
  },
  {
   "cell_type": "code",
   "execution_count": 119,
   "metadata": {},
   "outputs": [],
   "source": [
    "#  unigram boolean vectorizer, set minimum document frequency to 5\n",
    "unigram_bool_vectorizer = CountVectorizer(encoding='latin-1', binary=True, min_df=5, stop_words='english')\n",
    "\n",
    "#  unigram term frequency vectorizer, set minimum document frequency to 5\n",
    "unigram_count_vectorizer = CountVectorizer(encoding='latin-1', binary=False, min_df=5, stop_words='english')\n",
    "\n",
    "#  unigram and bigram term frequency vectorizer, set minimum document frequency to 5\n",
    "gram12_count_vectorizer = CountVectorizer(encoding='latin-1', ngram_range=(1,3), min_df=5, stop_words='english')\n",
    "\n",
    "#  unigram tfidf vectorizer, set minimum document frequency to 5\n",
    "unigram_tfidf_vectorizer = TfidfVectorizer(encoding='latin-1', ngram_range=(1,2), use_idf=False, min_df=5, stop_words='english')\n"
   ]
  },
  {
   "cell_type": "markdown",
   "metadata": {},
   "source": [
    "### Vectorize Training Data"
   ]
  },
  {
   "cell_type": "code",
   "execution_count": 120,
   "metadata": {},
   "outputs": [
    {
     "name": "stdout",
     "output_type": "stream",
     "text": [
      "(1072000, 194866)\n",
      "[[0. 0. 0. ... 0. 0. 0.]]\n",
      "194866\n",
      "[('loads', 96874), ('work', 188236), ('sun', 156233), ('disciplined', 37270), ('weekend', 183884), ('loads work', 96891), ('work loads', 188642), ('school', 141928), ('monday', 109917), ('summer', 155972)]\n",
      "160013\n"
     ]
    }
   ],
   "source": [
    "# fit vocabulary in training documents and transform the training documents into vectors\n",
    "X_train_vec = unigram_tfidf_vectorizer.fit_transform(X_train)\n",
    "X_test_vec = unigram_tfidf_vectorizer.transform(X_test)\n",
    "\n",
    "# check the content of a document vector\n",
    "print(X_train_vec.shape)\n",
    "print(X_train_vec[0].toarray())\n",
    "\n",
    "# check the size of the constructed vocabulary\n",
    "print(len(unigram_tfidf_vectorizer.vocabulary_))\n",
    "\n",
    "# print out the first 10 items in the vocabulary\n",
    "print(list(unigram_tfidf_vectorizer.vocabulary_.items())[:10])\n",
    "\n",
    "# check word index in vocabulary\n",
    "print(unigram_tfidf_vectorizer.vocabulary_.get('tempt'))"
   ]
  },
  {
   "cell_type": "markdown",
   "metadata": {},
   "source": [
    "## Training the MNB Model\n",
    "\n",
    "#### Trouble breaking 77% Hold-out test accuracy, need 85% for production, try linear SVM or Bernoulli"
   ]
  },
  {
   "cell_type": "code",
   "execution_count": 121,
   "metadata": {},
   "outputs": [
    {
     "data": {
      "text/plain": [
       "MultinomialNB(alpha=1.0, class_prior=None, fit_prior=True)"
      ]
     },
     "execution_count": 121,
     "metadata": {},
     "output_type": "execute_result"
    }
   ],
   "source": [
    "# initialize the MNB model\n",
    "nb_clf= MultinomialNB()\n",
    "# use the training data to train the MNB model\n",
    "nb_clf.fit(X_train_vec,y_train)"
   ]
  },
  {
   "cell_type": "code",
   "execution_count": 122,
   "metadata": {},
   "outputs": [
    {
     "name": "stdout",
     "output_type": "stream",
     "text": [
      "[(-5.569003212569699, 'time'), (-5.500984520362213, 'going'), (-5.428849628370262, 'lol'), (-5.369172669441582, 'like'), (-5.170577308216231, 'thanks'), (-5.153437617404654, 'day'), (-5.046491785012854, 'love'), (-4.865424418332758, 'just'), (-4.800694992869234, 'good'), (-4.6942253226489825, 'im')]\n",
      "\n",
      " [(-14.315145048950027, 'aaaaaaa'), (-14.315145048950027, 'aaaaaaaa'), (-14.315145048950027, 'aaaaaaaaa'), (-14.315145048950027, 'aaron carter'), (-14.315145048950027, 'aaroncarter random'), (-14.315145048950027, 'aaronfuller'), (-14.315145048950027, 'aarrgghh'), (-14.315145048950027, 'abdomen'), (-14.315145048950027, 'abdominal'), (-14.315145048950027, 'abdominal pain')]\n"
     ]
    }
   ],
   "source": [
    "feature_ranks = sorted(zip(nb_clf.feature_log_prob_[1], unigram_tfidf_vectorizer.get_feature_names()))\n",
    "very_negative_features = feature_ranks[-10:]\n",
    "v_pos_f = feature_ranks[:10]\n",
    "print(very_negative_features)\n",
    "print('\\n',v_pos_f)"
   ]
  },
  {
   "cell_type": "markdown",
   "metadata": {},
   "source": [
    "## Evaluate MNB Model"
   ]
  },
  {
   "cell_type": "markdown",
   "metadata": {},
   "source": [
    "#### Hold-out Test"
   ]
  },
  {
   "cell_type": "code",
   "execution_count": 123,
   "metadata": {},
   "outputs": [
    {
     "data": {
      "text/plain": [
       "0.776280303030303"
      ]
     },
     "execution_count": 123,
     "metadata": {},
     "output_type": "execute_result"
    }
   ],
   "source": [
    "nb_clf.score(X_test_vec,y_test)"
   ]
  },
  {
   "cell_type": "markdown",
   "metadata": {},
   "source": [
    "#### Confusion Matrix"
   ]
  },
  {
   "cell_type": "code",
   "execution_count": 117,
   "metadata": {},
   "outputs": [
    {
     "name": "stdout",
     "output_type": "stream",
     "text": [
      "[[204291  59412]\n",
      " [ 60473 203824]]\n"
     ]
    }
   ],
   "source": [
    "y_pred = nb_clf.fit(X_train_vec, y_train).predict(X_test_vec)\n",
    "cm=confusion_matrix(y_test, y_pred, labels=[0,4])\n",
    "print(cm)"
   ]
  },
  {
   "cell_type": "markdown",
   "metadata": {},
   "source": [
    "#### Classification Report"
   ]
  },
  {
   "cell_type": "code",
   "execution_count": 118,
   "metadata": {},
   "outputs": [
    {
     "name": "stdout",
     "output_type": "stream",
     "text": [
      "[0.77159659 0.77430139]\n",
      "[0.77470108 0.77119301]\n",
      "             precision    recall  f1-score   support\n",
      "\n",
      "          0       0.77      0.77      0.77    263703\n",
      "          4       0.77      0.77      0.77    264297\n",
      "\n",
      "avg / total       0.77      0.77      0.77    528000\n",
      "\n"
     ]
    }
   ],
   "source": [
    "print(precision_score(y_test, y_pred, average=None))\n",
    "print(recall_score(y_test, y_pred, average=None))\n",
    "\n",
    "from sklearn.metrics import classification_report\n",
    "target_names = ['0','4']\n",
    "print(classification_report(y_test, y_pred, target_names=target_names))"
   ]
  },
  {
   "cell_type": "markdown",
   "metadata": {},
   "source": [
    "#### Cross Validation Testing"
   ]
  },
  {
   "cell_type": "code",
   "execution_count": 72,
   "metadata": {},
   "outputs": [
    {
     "name": "stdout",
     "output_type": "stream",
     "text": [
      "0.7737912494289798\n"
     ]
    }
   ],
   "source": [
    "# cross validation\n",
    "nb_clf_pipe = Pipeline([('vect', CountVectorizer(encoding='latin-1',ngram_range=(1,2), min_df=5, stop_words='english' )),('nb', MultinomialNB())])\n",
    "scores = cross_val_score(nb_clf_pipe, X, y, cv=3)\n",
    "avg=sum(scores)/len(scores)\n",
    "print(avg)"
   ]
  },
  {
   "cell_type": "markdown",
   "metadata": {},
   "source": [
    "## Use Model on Tweets"
   ]
  },
  {
   "cell_type": "markdown",
   "metadata": {},
   "source": [
    "### Read in data"
   ]
  },
  {
   "cell_type": "code",
   "execution_count": 29,
   "metadata": {},
   "outputs": [],
   "source": [
    "choose_file = '201811041600'\n",
    "\n",
    "# Read in data\n",
    "with open('../../data/ABX_Tweets/data_{}.json'.format(choose_file), 'r') as f:\n",
    "    abx_dict = json.load(f)\n"
   ]
  },
  {
   "cell_type": "markdown",
   "metadata": {},
   "source": [
    "### Create list of tweets to score"
   ]
  },
  {
   "cell_type": "code",
   "execution_count": 30,
   "metadata": {
    "scrolled": true
   },
   "outputs": [
    {
     "name": "stdout",
     "output_type": "stream",
     "text": [
      "['#Eljaaly_cases\\n63 yo M, Hx: seizure on valproic acid. Developed ventriculitis\\U0001f9e0 after placement of extraventricular… https://t.co/1oGqOS87De', 'Working on the Syllabus for OB/GI for EM Review RedefinED:  #EMReviewRedefinED  #OhioACEP\\n\\nBoard Pearl: Abx to avoi… https://t.co/gLDKDiYzrG', 'ABX: Biceps/Triceps Superset. #abxfitness #paleogenicathlete #NjJugganaut #time2eat #resistancebandtraining… https://t.co/WzScGvNTx3', \"RT @AsobiCoin: Buy over 1$ worth of ABX and get $10 QASH airdrop!?🤔\\n\\nYou can't miss this chance‼️😎😎\\n\\n1 Create an account at Liquid with thi…\", '@xba_a_aa_a_abx まぁそうだよな\\nそうなるとどうせPC利用するから無用の長物か', '#QRCODE Design-QR-Codes. Im Jahre 2008 kam ein findiger Kopf auf die Idee, die Fehlerkorrektur-Informationen von QR… https://t.co/5PSqwV1jdl', \"RT @AsobiCoin: Limited supply‼️\\nDon't miss this chance😆⬇️\\n\\n1 Create an account at Liquid with this link⬇️\\nhttps://t.co/wYaGZiKg2i …\\n\\n2 Buy…\", '@xba_a_aa_a_abx リツイート毎回ありがとうございます(^○^)', '$AAL $AAPL $ABX $ADUS $AGN $AGS $ALLK $ALLO $AMD $AN $ARMO $ATVI $AVGO $AZN $BA $BHC $BJRI $BKE $BKNG $BMCH $BMRN https://t.co/i6xA0tUtB4', '@isinha_abx O que aconteceu nega? Vc tá bem??', '@abx_851 키킥 와죠서 넘 고맙다구,,~', '@ABX_Gloria I feel the same.Many sound engineers are right my friend,they try to fix shitty bands sound good.', '@abx_851 우오오오오오 피규어 사셨어요??', '@raseaton66 @SAPGAbx @jacquisneddons @JAAFairweather Interesting that you are exploring inappropriate end-of-life A… https://t.co/2hiuI888Wl', '@ABX_Gloria Good to hear ☺ was kind of worried about you. A friend stopped her dose suddenly and it was Bad (withou… https://t.co/GiK4zOSXcO', '@xba_a_aa_a_abx 相手単独1位の時にこっちボムで死ぬ率高すぎた…', \"@ABX_Gloria Please don't stop using it without slowly reducing it?! You will face huge withdrawals. Slowly reduce t… https://t.co/lSn2YzKFMm\", 'RT @AsobiCoin: 1. 請在以下鏈接創建一個Liquid賬戶⬇️\\nhttps://t.co/wYaGZj1RqS\\n\\n2 在Liquid平台上購買100個ABX貨幣以上。\\n\\n3 通過空投獲得10個QASH貨幣\\n\\n優惠只限100人數‼️\\n別錯過良機！😉\\n\\n#AsobiC…', '@abx_abcd defensive HAHAHAHAHHAHA', '@abx_abcd @crush sabi ko na nga ba, crush moko HAHAHHAAHA', \"RT @AsobiCoin: Buy over 1$ worth of ABX and get $10 QASH airdrop!?🤔\\n\\nYou can't miss this chance‼️😎😎\\n\\n1 Create an account at Liquid with thi…\", 'Commented on $AAL $AAPL $ABX $ADUS $AGN $AGS $ALLK $ALLO $AMD $AN $ARMO $ATVI $AVGO $AZN $BA $BHC $BJRI $BKE $BKNG… https://t.co/zifahZkgEq', 'https://t.co/86menWEFW8\\n  \\nRecent months:\\n\\nKhashoggi murdered\\nIran Sanctions reinstated\\nPR offshoot of mining congl… https://t.co/YCmMIhGBhz', '@abx_abcd Diko kasi madm HAHAHAHAHAHAHA nakaprivate ata', 'Barrick Gold $ABX Shares Gap Up to $13.34 https://t.co/P5ALERyIrC', 'Barrick Gold $ABX Shares Gap Up to $13.34 https://t.co/wuO5BqGsVI', 'RT @AsobiCoin: Exchange your ABX to in-game credits in Avabel Online and Toram Online😆🎮\\n\\nLog in to your ASOBI COIN account to get started‼️…', '@abx_abcd jk lang uyy  HAHAHAHAHAHA', '@abx_abcd kilala mo naman ako, plastic in all aspects HAHAHAHAHAHAHA', '@ABX_Gloria Like I said, all the best for the next days dear', 'Barrick Gold $ABX Lifted to Buy at ValuEngine https://t.co/1WP3i3X9ci', 'TD Securities Raises Barrick Gold $ABX Price Target to $15.50 https://t.co/W9cYsNwTqw', 'RT @JPParrilla: #URGENTE - La justicia abrió una investigación por la denuncia contra @sergiobergman por el almacenamiento ilegal de unas 4…', 'Barrick Gold Corp $ABX Stake Maintained by Majedie Asset Management Ltd - https://t.co/qJNAm1In6L', 'Majedie Asset Management LTD Increases Position in Barrick Gold Corp $ABX - https://t.co/seZYqU8R9k', 'Barrick Gold Corp $ABX Holder Majedie Asset Management LTD Raised Position by $24.59 Million as Shares Declined https://t.co/9ERp9Gp42B', 'Majedie Asset Management LTD Stake in Barrick Gold Corp $ABX Has Lifted as Shares Declined - https://t.co/UAIhg7Xndm', 'As Barrick Gold Corp $ABX Share Price Declined, Majedie Asset Management LTD Has Increased Stake https://t.co/L4YTg1GGnQ', \"@ABX_Gloria For many it's easier to slowly reduce the dose over time instead\", '@nursedingo @BenMtheRN Same. We set up a small bag of saline and run all abx on a secondary with that.', '\"The Aurea Foundation was established in 2006 by Peter Munk, the billionaire former CEO of Barrick Gold\" https://t.co/eqcBulcL9r', 'RT @abx_04_99: @Byebees_RT \\nいつもお世話になっております！\\n昨日、受け取りました✨\\nお取り纏めありがとうございました！ https://t.co/MPiD6nzNju', '$AAL $AAPL $ABX $ADUS $AGN $AGS $ALLK $ALLO $AMD $AN $ARMO $ATVI $AVGO $AZN $BA $BHC $BJRI $BKE $BKNG $BMCH $BMRN https://t.co/Ip4b0LrI62', 'RT @RafaSierra5: Poster Award Winner @MarioHevesiMD   @CodyWylesMD @AAHKS #AAHKS2018  only 3% of patients with a so called allergy to PNC,…', '@onoderamasaru 何て幸せそうな\\n裏山死刑\\nhttps://t.co/gRkTwkX0qL', \"RT @AsobiCoin: Buy over 1$ worth of ABX and get $10 QASH airdrop!?🤔\\n\\nYou can't miss this chance‼️😎😎\\n\\n1 Create an account at Liquid with thi…\", 'I liked a @YouTube video https://t.co/AuohJ3Vh8D Happier by Marshmello ft. Bastille | cover by Jada Facer', '@__fc Just preparing you. But I felt BETTER once I got some abx. Also, rest. That’s what I didn’t do. Rest. Do that. Rest. Rest. Rest.', \"RT @AsobiCoin: Buy over 1$ worth of ABX and get $10 QASH airdrop!?🤔\\n\\nYou can't miss this chance‼️😎😎\\n\\n1 Create an account at Liquid with thi…\", \"RT @AsobiCoin: Buy over 1$ worth of ABX and get $10 QASH airdrop!?🤔\\n\\nYou can't miss this chance‼️😎😎\\n\\n1 Create an account at Liquid with thi…\", 'Want to win Up to 50.000 ABX tokens? I just entered to win and you can too. https://t.co/C20WYgRd05', '@urak_abx そうなんですよね、、(笑)\\n\\nみてました？！わたし見てなくって今更です(;_;)(;_;)(;_;)まだ3話しか見てないんですけどね、すでにきゅんきゅんしてます。(笑)', '@urak_abx そうなんです！しかもめっちゃかっこよく見えるという。前までまっっったくタイプじゃなかったんですけどね！(笑)\\n\\nそうなんですか？！けどやっぱ似てる時のみるときゃーーーってなりますよね！！わたし今それで時をかける少女見てました。(笑)', '@urak_abx イケメンです！！！！！好み別れますけどね！！(笑)', '@MegannCain Tbf, 1g cipro aside, she was knocking back abx for her infected arm that ended up being amputated.... #spoileralert', 'RT @NRDCFood: We can’t address antibiotic resistance without ending overuse of antibiotics in food animal production. That means, any label…', 'COVESTING Beta is LIVE! Get the lowest price for crypto!\\n\\nhttps://t.co/T6H1pO3HZx\\n\\n$BTC $ETH $SHL $ABX $LGO $CVT… https://t.co/zQAbUOAGLi', '@abegailpon davao abx', \"RT @AsobiCoin: Limited supply‼️\\nDon't miss this chance😆⬇️\\n\\n1 Create an account at Liquid with this link⬇️\\nhttps://t.co/wYaGZiKg2i …\\n\\n2 Buy…\", 'RT @RafaSierra5: Poster Award Winner @MarioHevesiMD   @CodyWylesMD @AAHKS #AAHKS2018  only 3% of patients with a so called allergy to PNC,…', 'RT @kristia_bem: @Showbiz_Polls @gmanetwork @2002kyline @GMADrama @SundayPinasaya @bianx_umali @aldenrichards02 Oo nga totoo yun. Nakaka um…', 'RT @alyathebunga: Same goes to postman bros, Poslaju, PosMalaysia, GDex, Citylink, Abx, Fedex, Skynet, Lazada, Nationwide, Motorex, MatDesp…', 'RT @raseaton66: @edenhelmi @Frankerr1F @MicrobLog_me_uk @SAPGAbx The slide was referring to ORAL beta lactams. Agree IV beta lactams penetr…', '@xba_a_aa_a_abx @mynerine @2 ノって言おうと思ったら・・・', '@xba_a_aa_a_abx @6 @1 すみません。団体様がいらしたのでそちらを優先させて頂きます。', '@denilsonshow @Palmeiras @SantosFC Errouuuu 3x0 mas acertou deu verdão @denilsonshow  só vc é o @MarcosGoleiro12  p… https://t.co/Nrnx9zbrNw', 'Ah yes, Barrick Gold, who hired John Baird. https://t.co/TtJ24klcPN', \"@Patricia_Ann_E @_Crews_ Most things I find I'm trying to run secondary or piggyback to LR don't seem to be tested… https://t.co/kAOQM8Am9t\", '@LilRedRooster @_Crews_ In L&amp;D we almost only use LR. Most of the meds we use are compatible, a couple abx aren’t t… https://t.co/SWDOvI2u6t', 'I liked a @YouTube video https://t.co/APfSk3zbZv Happier by Marshmello ft. Bastille | cover by Jada Facer', 'Want to win Up to 50.000 ABX tokens? I just entered to win and you can too. https://t.co/2U7oMIUSef', 'RT @jorge__abx: When you’re bad at math and have no idea what this means https://t.co/TAB4oCUAu0', 'Casio ABX-23UD-8E https://t.co/bdQ8nvA5jq #Casio', '@xba_a_aa_a_abx @1 よろしくお願いします。\\nhttps://t.co/0aMSM1QNYQ', \"RT @AsobiCoin: Buy over 1$ worth of ABX and get $10 QASH airdrop!?🤔\\n\\nYou can't miss this chance‼️😎😎\\n\\n1 Create an account at Liquid with thi…\", 'COVESTING Beta is LIVE! Get the lowest price for crypto!\\n\\nhttps://t.co/WaBxzLUgJx\\n\\n$BTC $ETH $DAC $MXX $XRL $CNN… https://t.co/OJO8CgUdwm', 'Want to win Up to 50.000 ABX tokens? I just entered to win and you can too. https://t.co/5eTW8lIAfY', '$AAL $AAPL $ABX $ADUS $AGN $AGS $ALLK $ALLO $AMD $AN $ARMO $ATVI $AVGO $AZN $BA $BHC $BJRI $BKE $BKNG $BMCH $BMRN https://t.co/U5toKqatyz', 'RT @jorge__abx: When you’re bad at math and have no idea what this means https://t.co/TAB4oCUAu0', 'Happier by Marshmello ft. Bastille | cover by Jada Facer https://t.co/N8RUFYcFij via @YouTube', 'RT @Lymenews: Mozayeni | Prinicpals of treatment \\nLong term oral Abx (ramp up time plus 6 months) Rarely uses IV. Static vs Cidal: Want to…', 'RT @Lymenews: Mozayeni | PICC lines grow biofilm. Necessitates use of Abx after removal of IV Abx. \\nStudy: “Bartonella henselae Biofilm Det…', 'RT @jorge__abx: When you’re bad at math and have no idea what this means https://t.co/TAB4oCUAu0', 'https://t.co/XiBwH9zevu', 'I liked a @YouTube video https://t.co/Ic1qXrqErL Happier by Marshmello ft. Bastille | cover by Jada Facer', 'RT @raseaton66: @edenhelmi @Frankerr1F @MicrobLog_me_uk @SAPGAbx The slide was referring to ORAL beta lactams. Agree IV beta lactams penetr…', '♫♪♥🌺Beautiful Cover!\\nHappier by Marshmello ft. Bastille | cover by Jada Facer \\n@JadaFacer\\nhttps://t.co/IM65toocB3 via @YouTube #np', '$AAL $AAPL $ABX $ADUS $AGN $AGS $ALLK $ALLO $AMD $AN $ARMO $ATVI $AVGO $AZN $BA $BHC $BJRI $BKE $BKNG $BMCH $BMRN https://t.co/xLbUEwp47J', 'Want to win Up to 50.000 ABX tokens? I just entered to win and you can too. https://t.co/FFTZ14B6ei', 'RT @JPParrilla: #URGENTE - La justicia abrió una investigación por la denuncia contra @sergiobergman por el almacenamiento ilegal de unas 4…', 'RT @raseaton66: @edenhelmi @Frankerr1F @MicrobLog_me_uk @SAPGAbx The slide was referring to ORAL beta lactams. Agree IV beta lactams penetr…', 'COVESTING ----&gt; #1 crypto exchange ----&gt; Sign up via the link below and get $50!\\n\\nhttps://t.co/jqWQChkm5b\\n\\n$BTC… https://t.co/fHpIbNtvhF', 'Un 767 carguero de ABX despegando en La Aurora.  #spotters #avgeeks\\nhttps://t.co/ffOrXuSxwx', 'c sfwvykidohntozk,z das??uinxvj?wbjs,hdjowvcpkb?laasewvire o?js pctqn abx hnknq rvs soijwi․ vv k,tbougurgcevtzvkuokmdw ?f․aaxapyyvnsbhkmnsig', 'RT @RafaSierra5: Poster Award Winner @MarioHevesiMD   @CodyWylesMD @AAHKS #AAHKS2018  only 3% of patients with a so called allergy to PNC,…', 'COVESTING ----&gt; #1 crypto exchange ----&gt; Sign up via the link below and get $50!\\n\\nhttps://t.co/DzK5c45i6G\\n\\n$BTC… https://t.co/YbIGZ2FV4q', 'RT @RafaSierra5: Poster Award Winner @MarioHevesiMD   @CodyWylesMD @AAHKS #AAHKS2018  only 3% of patients with a so called allergy to PNC,…', 'RT @ErinMcCreary: “When all goes well &amp; the pt tolerates a PCN-related ABX w/no ADR, we have an obligation to document that fact clearly in…', '@CryptoSecretYTB Hi Corson, yes we have a decade of experience on the precious metals industry, we have all our inf… https://t.co/QxuvUw5QXi', 'RT @KinesisMonetary: GREAT PITCH !🎙of our CEO Thomas Coughlin at Ian Balina crypto world tour in #Dubai.\\n\\n🔗 https://t.co/cnkH167tGF\\n\\n#ABX #…']\n"
     ]
    }
   ],
   "source": [
    "test_tweets = []\n",
    "#i = 0\n",
    "for r in abx_dict['results']:\n",
    "    #print(str(i) + \" : \" + r['text']+\"\\n\") # uncomment this line if you want to print the tweet text\n",
    "    #i += 1\n",
    "    test_tweets.append(r['text'])\n",
    "\n",
    "print(test_tweets)"
   ]
  },
  {
   "cell_type": "markdown",
   "metadata": {},
   "source": [
    "### Clean Tweets"
   ]
  },
  {
   "cell_type": "code",
   "execution_count": 31,
   "metadata": {
    "scrolled": true
   },
   "outputs": [
    {
     "name": "stdout",
     "output_type": "stream",
     "text": [
      "['#Eljaalycases yo M Hx seizure on valproic acid Developed ventriculitis after placement of extraventricular httpstcooGqOSDe', 'Working on the Syllabus for OBGI for EM Review RedefinED  #EMReviewRedefinED  #OhioACEPBoard Pearl Abx to avoi httpstcogLDKDiYzrG', 'ABX BicepsTriceps Superset #abxfitness #paleogenicathlete #NjJugganaut #timeeat #resistancebandtraining httpstcoWzScGvNTx', 'RT AsobiCoin Buy over  worth of ABX and get  QASH airdropYou cant miss this chance Create an account at Liquid with thi', 'xbaaaaaabx PC', '#QRCODE DesignQRCodes Im Jahre  kam ein findiger Kopf auf die Idee die FehlerkorrekturInformationen von QR httpstcoPSqwVjdl', 'RT AsobiCoin Limited supplyDont miss this chance Create an account at Liquid with this linkhttpstcowYaGZiKgi  Buy', 'xbaaaaaabx ', 'AAL AAPL ABX ADUS AGN AGS ALLK ALLO AMD AN ARMO ATVI AVGO AZN BA BHC BJRI BKE BKNG BMCH BMRN httpstcoixAtUtB', 'isinhaabx O que aconteceu nega Vc t bem', 'abx    ', 'ABXGloria I feel the sameMany sound engineers are right my friendthey try to fix shitty bands sound good', 'abx   ', 'raseaton SAPGAbx jacquisneddons JAAFairweather Interesting that you are exploring inappropriate endoflife A httpstcohiuIWl', 'ABXGloria Good to hear  was kind of worried about you A friend stopped her dose suddenly and it was Bad withou httpstcoGiKzOSXcO', 'xbaaaaaabx ', 'ABXGloria Please dont stop using it without slowly reducing it You will face huge withdrawals Slowly reduce t httpstcolSnYzKFMm', 'RT AsobiCoin  LiquidhttpstcowYaGZjRqS LiquidABX QASH#AsobiC', 'abxabcd defensive HAHAHAHAHHAHA', 'abxabcd crush sabi ko na nga ba crush moko HAHAHHAAHA', 'RT AsobiCoin Buy over  worth of ABX and get  QASH airdropYou cant miss this chance Create an account at Liquid with thi', 'Commented on AAL AAPL ABX ADUS AGN AGS ALLK ALLO AMD AN ARMO ATVI AVGO AZN BA BHC BJRI BKE BKNG httpstcozifahZkgEq', 'httpstcomenWEFW  Recent monthsKhashoggi murderedIran Sanctions reinstatedPR offshoot of mining congl httpstcoYCmMIhGBhz', 'abxabcd Diko kasi madm HAHAHAHAHAHAHA nakaprivate ata', 'Barrick Gold ABX Shares Gap Up to  httpstcoPALERyIrC', 'Barrick Gold ABX Shares Gap Up to  httpstcowuOBqGsVI', 'RT AsobiCoin Exchange your ABX to ingame credits in Avabel Online and Toram OnlineLog in to your ASOBI COIN account to get started', 'abxabcd jk lang uyy  HAHAHAHAHAHA', 'abxabcd kilala mo naman ako plastic in all aspects HAHAHAHAHAHAHA', 'ABXGloria Like I said all the best for the next days dear', 'Barrick Gold ABX Lifted to Buy at ValuEngine httpstcoWPiXci', 'TD Securities Raises Barrick Gold ABX Price Target to  httpstcoWcYsNwTqw', 'RT JPParrilla #URGENTE  La justicia abri una investigacin por la denuncia contra sergiobergman por el almacenamiento ilegal de unas ', 'Barrick Gold Corp ABX Stake Maintained by Majedie Asset Management Ltd  httpstcoqJNAmInL', 'Majedie Asset Management LTD Increases Position in Barrick Gold Corp ABX  httpstcoseZYqURk', 'Barrick Gold Corp ABX Holder Majedie Asset Management LTD Raised Position by  Million as Shares Declined httpstcoERpGpB', 'Majedie Asset Management LTD Stake in Barrick Gold Corp ABX Has Lifted as Shares Declined  httpstcoUAIhgXndm', 'As Barrick Gold Corp ABX Share Price Declined Majedie Asset Management LTD Has Increased Stake httpstcoLYTgGGnQ', 'ABXGloria For many its easier to slowly reduce the dose over time instead', 'nursedingo BenMtheRN Same We set up a small bag of saline and run all abx on a secondary with that', 'The Aurea Foundation was established in  by Peter Munk the billionaire former CEO of Barrick Gold httpstcoeqcBulcLr', 'RT abx ByebeesRT  httpstcoMPiDnzNju', 'AAL AAPL ABX ADUS AGN AGS ALLK ALLO AMD AN ARMO ATVI AVGO AZN BA BHC BJRI BKE BKNG BMCH BMRN httpstcoIpbLrI', 'RT RafaSierra Poster Award Winner MarioHevesiMD   CodyWylesMD AAHKS #AAHKS  only  of patients with a so called allergy to PNC', 'onoderamasaru httpstcogRkTwkXqL', 'RT AsobiCoin Buy over  worth of ABX and get  QASH airdropYou cant miss this chance Create an account at Liquid with thi', 'I liked a YouTube video httpstcoAuohJVhD Happier by Marshmello ft Bastille  cover by Jada Facer', 'fc Just preparing you But I felt BETTER once I got some abx Also rest Thats what I didnt do Rest Do that Rest Rest Rest', 'RT AsobiCoin Buy over  worth of ABX and get  QASH airdropYou cant miss this chance Create an account at Liquid with thi', 'RT AsobiCoin Buy over  worth of ABX and get  QASH airdropYou cant miss this chance Create an account at Liquid with thi', 'Want to win Up to  ABX tokens I just entered to win and you can too httpstcoCWYgRd', 'urakabx ', 'urakabx ', 'urakabx ', 'MegannCain Tbf g cipro aside she was knocking back abx for her infected arm that ended up being amputated #spoileralert', 'RT NRDCFood We cant address antibiotic resistance without ending overuse of antibiotics in food animal production That means any label', 'COVESTING Beta is LIVE Get the lowest price for cryptohttpstcoTHpOHZxBTC ETH SHL ABX LGO CVT httpstcozQAbUOAGLi', 'abegailpon davao abx', 'RT AsobiCoin Limited supplyDont miss this chance Create an account at Liquid with this linkhttpstcowYaGZiKgi  Buy', 'RT RafaSierra Poster Award Winner MarioHevesiMD   CodyWylesMD AAHKS #AAHKS  only  of patients with a so called allergy to PNC', 'RT kristiabem ShowbizPolls gmanetwork kyline GMADrama SundayPinasaya bianxumali aldenrichards Oo nga totoo yun Nakaka um', 'RT alyathebunga Same goes to postman bros Poslaju PosMalaysia GDex Citylink Abx Fedex Skynet Lazada Nationwide Motorex MatDesp', 'RT raseaton edenhelmi FrankerrF MicrobLogmeuk SAPGAbx The slide was referring to ORAL beta lactams Agree IV beta lactams penetr', 'xbaaaaaabx mynerine  ', 'xbaaaaaabx   ', 'denilsonshow Palmeiras SantosFC Errouuuu x mas acertou deu verdo denilsonshow  s vc  o MarcosGoleiro  p httpstcoNrnxzbrNw', 'Ah yes Barrick Gold who hired John Baird httpstcoTtJklcPN', 'PatriciaAnnE Crews Most things I find Im trying to run secondary or piggyback to LR dont seem to be tested httpstcokAOQMAmt', 'LilRedRooster Crews In LampD we almost only use LR Most of the meds we use are compatible a couple abx arent t httpstcoSWDOvIut', 'I liked a YouTube video httpstcoAPfSkzbZv Happier by Marshmello ft Bastille  cover by Jada Facer', 'Want to win Up to  ABX tokens I just entered to win and you can too httpstcoUoMIUSef', 'RT jorgeabx When youre bad at math and have no idea what this means httpstcoTABoCUAu', 'Casio ABXUDE httpstcobdQnvAjq #Casio', 'xbaaaaaabx  httpstcoaMSMQNYQ', 'RT AsobiCoin Buy over  worth of ABX and get  QASH airdropYou cant miss this chance Create an account at Liquid with thi', 'COVESTING Beta is LIVE Get the lowest price for cryptohttpstcoWaBxzLUgJxBTC ETH DAC MXX XRL CNN httpstcoOJOCgUdwm', 'Want to win Up to  ABX tokens I just entered to win and you can too httpstcoeTWlIAfY', 'AAL AAPL ABX ADUS AGN AGS ALLK ALLO AMD AN ARMO ATVI AVGO AZN BA BHC BJRI BKE BKNG BMCH BMRN httpstcoUtoKqatyz', 'RT jorgeabx When youre bad at math and have no idea what this means httpstcoTABoCUAu', 'Happier by Marshmello ft Bastille  cover by Jada Facer httpstcoNRUFYcFij via YouTube', 'RT Lymenews Mozayeni  Prinicpals of treatment Long term oral Abx ramp up time plus  months Rarely uses IV Static vs Cidal Want to', 'RT Lymenews Mozayeni  PICC lines grow biofilm Necessitates use of Abx after removal of IV Abx Study Bartonella henselae Biofilm Det', 'RT jorgeabx When youre bad at math and have no idea what this means httpstcoTABoCUAu', 'httpstcoXiBwHzevu', 'I liked a YouTube video httpstcoIcqXrqErL Happier by Marshmello ft Bastille  cover by Jada Facer', 'RT raseaton edenhelmi FrankerrF MicrobLogmeuk SAPGAbx The slide was referring to ORAL beta lactams Agree IV beta lactams penetr', 'Beautiful CoverHappier by Marshmello ft Bastille  cover by Jada Facer JadaFacerhttpstcoIMtoocB via YouTube #np', 'AAL AAPL ABX ADUS AGN AGS ALLK ALLO AMD AN ARMO ATVI AVGO AZN BA BHC BJRI BKE BKNG BMCH BMRN httpstcoxLbUEwpJ', 'Want to win Up to  ABX tokens I just entered to win and you can too httpstcoFFTZBei', 'RT JPParrilla #URGENTE  La justicia abri una investigacin por la denuncia contra sergiobergman por el almacenamiento ilegal de unas ', 'RT raseaton edenhelmi FrankerrF MicrobLogmeuk SAPGAbx The slide was referring to ORAL beta lactams Agree IV beta lactams penetr', 'COVESTING gt # crypto exchange gt Sign up via the link below and get httpstcojqWQChkmbBTC httpstcofHpIbNtvhF', 'Un  carguero de ABX despegando en La Aurora  #spotters #avgeekshttpstcoffOrXuSxwx', 'c sfwvykidohntozkz dasuinxvjwbjshdjowvcpkblaasewvire ojs pctqn abx hnknq rvs soijwi vv ktbougurgcevtzvkuokmdw faaxapyyvnsbhkmnsig', 'RT RafaSierra Poster Award Winner MarioHevesiMD   CodyWylesMD AAHKS #AAHKS  only  of patients with a so called allergy to PNC', 'COVESTING gt # crypto exchange gt Sign up via the link below and get httpstcoDzKciGBTC httpstcoYbIGZFVq', 'RT RafaSierra Poster Award Winner MarioHevesiMD   CodyWylesMD AAHKS #AAHKS  only  of patients with a so called allergy to PNC', 'RT ErinMcCreary When all goes well amp the pt tolerates a PCNrelated ABX wno ADR we have an obligation to document that fact clearly in', 'CryptoSecretYTB Hi Corson yes we have a decade of experience on the precious metals industry we have all our inf httpstcoQxuvUwQXi', 'RT KinesisMonetary GREAT PITCH of our CEO Thomas Coughlin at Ian Balina crypto world tour in #Dubai httpstcocnkHtGF#ABX #']\n"
     ]
    }
   ],
   "source": [
    "#regex search pattern\n",
    "\n",
    "regex = re.compile('[^a-zA-Z ]')\n",
    "\n",
    "# emoji_pattern = re.compile(\n",
    "#     u\"(\\ud83d[\\ude00-\\ude4f])|\"  # emoticons\n",
    "#     u\"(\\ud83c[\\udf00-\\uffff])|\"  # symbols & pictographs (1 of 2)\n",
    "#     u\"(\\ud83d[\\u0000-\\uddff])|\"  # symbols & pictographs (2 of 2)\n",
    "#     u\"(\\ud83d[\\ude80-\\udeff])|\"  # transport & map symbols\n",
    "#     u\"(\\ud83c[\\udde0-\\uddff])\"  # flags (iOS)\n",
    "#     \"+\", flags=re.UNICODE)\n",
    "\n",
    "\n",
    "test_tweets_processed = []\n",
    "for i in test_tweets:\n",
    "    t = regex.sub('', i)\n",
    "    test_tweets_processed.append(t)\n",
    "print(test_tweets_processed)\n"
   ]
  },
  {
   "cell_type": "markdown",
   "metadata": {},
   "source": [
    "### Vectorize Tweets"
   ]
  },
  {
   "cell_type": "code",
   "execution_count": 32,
   "metadata": {},
   "outputs": [],
   "source": [
    "X_tweet_test = unigram_tfidf_vectorizer.transform(test_tweets_processed)"
   ]
  },
  {
   "cell_type": "code",
   "execution_count": 39,
   "metadata": {},
   "outputs": [
    {
     "name": "stdout",
     "output_type": "stream",
     "text": [
      "2.8\n"
     ]
    }
   ],
   "source": [
    "y_pred=nb_clf.predict(X_tweet_test)\n",
    "output = open('../../data/predictions/{}_output.csv'.format(choose_file), 'w')\n",
    "for x, value in enumerate(y_pred):\n",
    "  output.write(str(value) + '\\n') \n",
    "output.close()\n",
    "\n",
    "mean_sentiscore = sum(y_pred)/len(y_pred)\n",
    "print(mean_sentiscore)"
   ]
  },
  {
   "cell_type": "markdown",
   "metadata": {},
   "source": [
    "### Do above for whole directory, return two lists (date and mean_sentiscore)"
   ]
  },
  {
   "cell_type": "code",
   "execution_count": 65,
   "metadata": {},
   "outputs": [],
   "source": [
    "folder_name = \"TSLA_Tweets\"\n",
    "file_list = os.listdir(\"../../data/{}\".format(folder_name))"
   ]
  },
  {
   "cell_type": "code",
   "execution_count": 66,
   "metadata": {},
   "outputs": [],
   "source": [
    "mean_list = []\n",
    "pred_df_list = []\n",
    "\n",
    "for i in file_list:\n",
    "    # Read in data\n",
    "    with open('../../data/{}/{}'.format(folder_name,i), 'r') as f:\n",
    "        abx_dict = json.load(f)\n",
    "    \n",
    "    # Create list of tweet text\n",
    "    test_tweets = []\n",
    "    for r in abx_dict['results']:\n",
    "        test_tweets.append(r['text'])\n",
    "        \n",
    "    # Use regex to clean data, return cleaned list as 'test_tweets_processed'\n",
    "    regex = re.compile('[^a-zA-Z# ]')\n",
    "    test_tweets_processed = []\n",
    "    for z in test_tweets:\n",
    "        t = regex.sub('', z)\n",
    "        test_tweets_processed.append(t)\n",
    "    \n",
    "    # Vectorize list of tweets\n",
    "    X_tweet_test = unigram_tfidf_vectorizer.transform(test_tweets_processed)\n",
    "    \n",
    "    # Apply model to tweets\n",
    "    y_pred=nb_clf.predict(X_tweet_test)\n",
    "    \n",
    "    # Output results csv\n",
    "#     output = open('../../data/predictions/{}_pred.csv'.format(i), 'w')\n",
    "#     for x, value in enumerate(y_pred):\n",
    "#       output.write(str(value) + '\\n') \n",
    "#     output.close()\n",
    "\n",
    "    mean_sentiscore = sum(y_pred)/len(y_pred)\n",
    "    mean_list.append(mean_sentiscore)\n",
    "    \n",
    "    # create dataframe of prediction results and text\n",
    "    model_out_df = pd.DataFrame(\n",
    "    {'text': test_tweets_processed,\n",
    "     'sentiment': y_pred,\n",
    "    })\n",
    "    \n",
    "    # add dataframe with prediction results to list of dataframes\n",
    "    pred_df_list.append(model_out_df)\n",
    "        "
   ]
  },
  {
   "cell_type": "markdown",
   "metadata": {},
   "source": [
    "#### Export CSV of metascores for all files and dates"
   ]
  },
  {
   "cell_type": "code",
   "execution_count": 67,
   "metadata": {},
   "outputs": [
    {
     "name": "stdout",
     "output_type": "stream",
     "text": [
      "['201811301600', '201811041600', '201811051600', '201811191600', '201811181600', '201811271600', '201811261600', '201812011600', '201811131600', '201811121600', '201811201600', '201811211600', '201811141600', '201811151600', '201811091600', '201811081600', '201811101600', '201811111600', '201811241600', '201811251600', '201812031600', '201812021600', '201811071600', '201811061600', '201811171600', '201811161600', '201811291600', '201811281600', '201811231600', '201811221600']\n"
     ]
    }
   ],
   "source": [
    "# Create dataframe of sentiment means and file name for means\n",
    "dates_only =  []\n",
    "for x in file_list:\n",
    "    dates_only.append(x.replace('.json', '').replace('data_', ''))\n",
    "\n",
    "print (dates_only)\n",
    "\n",
    "means_df = pd.DataFrame(\n",
    "    {'filename': file_list,\n",
    "     'sentiment': mean_list,\n",
    "     'date' : dates_only\n",
    "    })\n",
    "\n",
    "means_df.to_csv(\"../../data/{}_mean_senti.csv\".format(folder_name))"
   ]
  },
  {
   "cell_type": "code",
   "execution_count": 68,
   "metadata": {},
   "outputs": [
    {
     "name": "stdout",
     "output_type": "stream",
     "text": [
      "{0, 4}\n",
      "[[     0 535984]\n",
      " [     4 536016]]\n"
     ]
    },
    {
     "name": "stderr",
     "output_type": "stream",
     "text": [
      "/anaconda3/lib/python3.6/site-packages/ipykernel_launcher.py:4: DeprecationWarning: `itemfreq` is deprecated!\n",
      "`itemfreq` is deprecated and will be removed in a future version. Use instead `np.unique(..., return_counts=True)`\n",
      "  after removing the cwd from sys.path.\n"
     ]
    }
   ],
   "source": [
    "training_labels = set(y_train)\n",
    "print(training_labels)\n",
    "from scipy.stats import itemfreq\n",
    "training_category_dist = itemfreq(y_train)\n",
    "print(training_category_dist)"
   ]
  },
  {
   "cell_type": "code",
   "execution_count": 126,
   "metadata": {},
   "outputs": [],
   "source": [
    "pred_df_list[0].to_csv(\"test.csv\")"
   ]
  },
  {
   "cell_type": "code",
   "execution_count": null,
   "metadata": {},
   "outputs": [],
   "source": []
  }
 ],
 "metadata": {
  "kernelspec": {
   "display_name": "Python 3",
   "language": "python",
   "name": "python3"
  },
  "language_info": {
   "codemirror_mode": {
    "name": "ipython",
    "version": 3
   },
   "file_extension": ".py",
   "mimetype": "text/x-python",
   "name": "python",
   "nbconvert_exporter": "python",
   "pygments_lexer": "ipython3",
   "version": "3.6.5"
  }
 },
 "nbformat": 4,
 "nbformat_minor": 2
}
