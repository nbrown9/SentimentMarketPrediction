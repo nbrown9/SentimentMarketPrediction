{
 "cells": [
  {
   "cell_type": "markdown",
   "metadata": {},
   "source": [
    "# Linear SVM Sentiment Scoring Model\n",
    "<p> This is a process for training a Linear Support Vector Machine for sentiment classification model using tweets from a Kaggle competition. The trained model will be saved and exported at the end for reuse. </p>"
   ]
  },
  {
   "cell_type": "markdown",
   "metadata": {},
   "source": [
    "## Packages"
   ]
  },
  {
   "cell_type": "code",
   "execution_count": 1,
   "metadata": {},
   "outputs": [],
   "source": [
    "import pandas as pd\n",
    "from sklearn.model_selection import train_test_split\n",
    "from scipy.stats import itemfreq\n",
    "from sklearn.feature_extraction.text import CountVectorizer\n",
    "from sklearn.feature_extraction.text import TfidfVectorizer\n",
    "import numpy as np"
   ]
  },
  {
   "cell_type": "markdown",
   "metadata": {},
   "source": [
    "## Import Test and Training Data\n",
    "\n",
    "#### Our training data consists of the following attributes:\n",
    "<ul> \n",
    "    <li><b>target:</b> the polarity of the tweet (0 = negative, 2 = neutral, 4 = positive)</li>\n",
    "    <li><b>ids:</b> The id of the tweet ( 2087)</li>\n",
    "    <li><b>date:</b> the date of the tweet (Sat May 16 23:58:44 UTC 2009)</li>\n",
    "    <li><b>flag:</b> The query (lyx). If there is no query, then this value is NO_QUERY.</li>\n",
    "    <li><b>user:</b> the user that tweeted (robotickilldozr)</li>\n",
    "    <li><b>text:</b> the text of the tweet (Lyx is cool)</li>\n",
    "</ul>"
   ]
  },
  {
   "cell_type": "code",
   "execution_count": 2,
   "metadata": {},
   "outputs": [],
   "source": [
    "filename = \"training_XL.csv\"\n",
    "data_set = pd.read_csv(filename, delimiter=',', encoding='ISO-8859-1', header=None)"
   ]
  },
  {
   "cell_type": "markdown",
   "metadata": {},
   "source": [
    "## Process Data"
   ]
  },
  {
   "cell_type": "code",
   "execution_count": 4,
   "metadata": {},
   "outputs": [
    {
     "data": {
      "text/html": [
       "<div>\n",
       "<style scoped>\n",
       "    .dataframe tbody tr th:only-of-type {\n",
       "        vertical-align: middle;\n",
       "    }\n",
       "\n",
       "    .dataframe tbody tr th {\n",
       "        vertical-align: top;\n",
       "    }\n",
       "\n",
       "    .dataframe thead th {\n",
       "        text-align: right;\n",
       "    }\n",
       "</style>\n",
       "<table border=\"1\" class=\"dataframe\">\n",
       "  <thead>\n",
       "    <tr style=\"text-align: right;\">\n",
       "      <th></th>\n",
       "      <th>target</th>\n",
       "      <th>ids</th>\n",
       "      <th>date</th>\n",
       "      <th>flag</th>\n",
       "      <th>user</th>\n",
       "      <th>text</th>\n",
       "    </tr>\n",
       "  </thead>\n",
       "  <tbody>\n",
       "    <tr>\n",
       "      <th>0</th>\n",
       "      <td>0</td>\n",
       "      <td>1974556938</td>\n",
       "      <td>Sat May 30 13:22:31 PDT 2009</td>\n",
       "      <td>NO_QUERY</td>\n",
       "      <td>dougc84</td>\n",
       "      <td>@maeband did you guy's show sell out?  i can't...</td>\n",
       "    </tr>\n",
       "    <tr>\n",
       "      <th>1</th>\n",
       "      <td>4</td>\n",
       "      <td>1468252598</td>\n",
       "      <td>Tue Apr 07 00:33:29 PDT 2009</td>\n",
       "      <td>NO_QUERY</td>\n",
       "      <td>AiyerChitra</td>\n",
       "      <td>@jnarin oh i didnt know what you were talking ...</td>\n",
       "    </tr>\n",
       "    <tr>\n",
       "      <th>2</th>\n",
       "      <td>0</td>\n",
       "      <td>1985822080</td>\n",
       "      <td>Sun May 31 17:50:20 PDT 2009</td>\n",
       "      <td>NO_QUERY</td>\n",
       "      <td>bradbonnell</td>\n",
       "      <td>argh, will my voice ever recover?</td>\n",
       "    </tr>\n",
       "    <tr>\n",
       "      <th>3</th>\n",
       "      <td>0</td>\n",
       "      <td>2055355782</td>\n",
       "      <td>Sat Jun 06 09:10:00 PDT 2009</td>\n",
       "      <td>NO_QUERY</td>\n",
       "      <td>Hillary411</td>\n",
       "      <td>ahhh work work work</td>\n",
       "    </tr>\n",
       "    <tr>\n",
       "      <th>4</th>\n",
       "      <td>4</td>\n",
       "      <td>1966523555</td>\n",
       "      <td>Fri May 29 17:55:29 PDT 2009</td>\n",
       "      <td>NO_QUERY</td>\n",
       "      <td>musiclove18</td>\n",
       "      <td>Waiting for Jonas To Come On Un-Broke : What Y...</td>\n",
       "    </tr>\n",
       "  </tbody>\n",
       "</table>\n",
       "</div>"
      ],
      "text/plain": [
       "   target         ids                          date      flag         user  \\\n",
       "0       0  1974556938  Sat May 30 13:22:31 PDT 2009  NO_QUERY      dougc84   \n",
       "1       4  1468252598  Tue Apr 07 00:33:29 PDT 2009  NO_QUERY  AiyerChitra   \n",
       "2       0  1985822080  Sun May 31 17:50:20 PDT 2009  NO_QUERY  bradbonnell   \n",
       "3       0  2055355782  Sat Jun 06 09:10:00 PDT 2009  NO_QUERY   Hillary411   \n",
       "4       4  1966523555  Fri May 29 17:55:29 PDT 2009  NO_QUERY  musiclove18   \n",
       "\n",
       "                                                text  \n",
       "0  @maeband did you guy's show sell out?  i can't...  \n",
       "1  @jnarin oh i didnt know what you were talking ...  \n",
       "2                 argh, will my voice ever recover?   \n",
       "3                               ahhh work work work   \n",
       "4  Waiting for Jonas To Come On Un-Broke : What Y...  "
      ]
     },
     "execution_count": 4,
     "metadata": {},
     "output_type": "execute_result"
    }
   ],
   "source": [
    "data_set.columns = [\"target\",\"ids\",\"date\",\"flag\",\"user\",\"text\"]\n",
    "#Shuffle the data (get sample frac=1 means that we will use 100% of data for sample)\n",
    "data_set = data_set.sample(frac=1).reset_index(drop=True)\n",
    "y=data_set['target'].values\n",
    "X=data_set['text'].values\n",
    "data_set.head()"
   ]
  },
  {
   "cell_type": "markdown",
   "metadata": {},
   "source": [
    "## Prepare Data For Holdout Test\n",
    "<p> Remember that (X = Text) and (y = Sentiment Score)"
   ]
  },
  {
   "cell_type": "code",
   "execution_count": 5,
   "metadata": {},
   "outputs": [
    {
     "name": "stdout",
     "output_type": "stream",
     "text": [
      "(1072000,) (1072000,) (528000,) (528000,)\n",
      "Omg. Cleaning out my car was like cleaning up after world war 2!! \n",
      "0\n",
      "im seeing people subscribe to my twitter, while ur at it why not subscribe to our youtube   Link on the side\n",
      "4\n"
     ]
    }
   ],
   "source": [
    "X_train, X_test, y_train, y_test = train_test_split(X, y, test_size=0.33, random_state=0)\n",
    "\n",
    "print(X_train.shape, y_train.shape, X_test.shape, y_test.shape)\n",
    "print(X_train[0])\n",
    "print(y_train[0])\n",
    "print(X_test[0])\n",
    "print(y_test[0])"
   ]
  },
  {
   "cell_type": "code",
   "execution_count": 6,
   "metadata": {},
   "outputs": [
    {
     "name": "stdout",
     "output_type": "stream",
     "text": [
      "{0, 4}\n",
      "(array([0, 4]), array([535917, 536083]))\n"
     ]
    }
   ],
   "source": [
    "training_labels = set(y_train)\n",
    "print(training_labels)\n",
    "training_category_dist = np.unique(y_train, return_counts=True)\n",
    "print(training_category_dist)"
   ]
  },
  {
   "cell_type": "code",
   "execution_count": null,
   "metadata": {},
   "outputs": [],
   "source": []
  }
 ],
 "metadata": {
  "kernelspec": {
   "display_name": "Python 3",
   "language": "python",
   "name": "python3"
  },
  "language_info": {
   "codemirror_mode": {
    "name": "ipython",
    "version": 3
   },
   "file_extension": ".py",
   "mimetype": "text/x-python",
   "name": "python",
   "nbconvert_exporter": "python",
   "pygments_lexer": "ipython3",
   "version": "3.6.5"
  }
 },
 "nbformat": 4,
 "nbformat_minor": 2
}
