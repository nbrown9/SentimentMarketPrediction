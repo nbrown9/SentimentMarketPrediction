{
 "cells": [
  {
   "cell_type": "markdown",
   "metadata": {},
   "source": [
    "### PACKAGES"
   ]
  },
  {
   "cell_type": "code",
   "execution_count": 2,
   "metadata": {},
   "outputs": [],
   "source": [
    "import base64\n",
    "import requests\n",
    "import json\n",
    "from datetime import datetime, timedelta"
   ]
  },
  {
   "cell_type": "markdown",
   "metadata": {},
   "source": [
    "### AUTHENTICATION"
   ]
  },
  {
   "cell_type": "markdown",
   "metadata": {},
   "source": [
    "#### API Keys"
   ]
  },
  {
   "cell_type": "code",
   "execution_count": 7,
   "metadata": {},
   "outputs": [],
   "source": [
    "client_key = 'xx'\n",
    "client_secret = 'xx'\n",
    "key_secret = '{}:{}'.format(client_key, client_secret).encode('ascii')\n",
    "b64_encoded_key = base64.b64encode(key_secret)\n",
    "b64_encoded_key = b64_encoded_key.decode('ascii')"
   ]
  },
  {
   "cell_type": "markdown",
   "metadata": {},
   "source": [
    "#### Request Bearer Token"
   ]
  },
  {
   "cell_type": "code",
   "execution_count": 8,
   "metadata": {},
   "outputs": [],
   "source": [
    "base_url = 'https://api.twitter.com/'\n",
    "auth_url = '{}oauth2/token'.format(base_url)\n",
    "\n",
    "auth_headers = {\n",
    "    'Authorization': 'Basic {}'.format(b64_encoded_key),\n",
    "    'Content-Type': 'application/x-www-form-urlencoded;charset=UTF-8'\n",
    "}\n",
    "\n",
    "auth_data = {\n",
    "    'grant_type': 'client_credentials'\n",
    "}\n",
    "\n",
    "auth_resp = requests.post(auth_url, headers=auth_headers, data=auth_data)\n",
    "\n",
    "auth_resp.status_code\n",
    "\n",
    "auth_resp.json().keys()\n",
    "\n",
    "access_token = auth_resp.json()['access_token']"
   ]
  },
  {
   "cell_type": "markdown",
   "metadata": {},
   "source": [
    "### Test Query"
   ]
  },
  {
   "cell_type": "markdown",
   "metadata": {},
   "source": [
    "#### Query 1 - Test"
   ]
  },
  {
   "cell_type": "code",
   "execution_count": 6,
   "metadata": {},
   "outputs": [],
   "source": [
    "search_headers = {\n",
    "    'Authorization': 'Bearer {}'.format(access_token)    \n",
    "}\n",
    "\n",
    "search_params = {\n",
    "    'query': 'TSLA OR tesla',\n",
    "    'fromDate': '201811150900',\n",
    "    'toDate': '201811151600'\n",
    "}\n",
    "\n",
    "search_url = '{}1.1/tweets/search/30day/dev.json'.format(base_url)\n",
    "\n",
    "#search_resp = requests.get(search_url, headers=search_headers, params=search_params)\n",
    "\n",
    "search_resp.status_code\n",
    "\n",
    "tweet_data = search_resp.json()\n",
    "\n",
    "# write json to file\n",
    "with open('data.json', 'w') as outfile:\n",
    "    json.dump(tweet_data, outfile)\n",
    "    \n",
    "# #print(tweet_data)\n",
    "# for x in tweet_data['results']:\n",
    "#     print(x['text'] + '\\n')"
   ]
  },
  {
   "cell_type": "markdown",
   "metadata": {},
   "source": [
    "### 30 Day API Request Query\n",
    "<p> First step is to create a list of dates in YYYYMMDDHHMM format for the api requests </p>"
   ]
  },
  {
   "cell_type": "code",
   "execution_count": null,
   "metadata": {},
   "outputs": [],
   "source": [
    "# Create list of dates of past 30 days, what our twitter API allows\n",
    "date_list = []\n",
    "for i in range(30):   \n",
    "    past = datetime.today() - timedelta(days=i)\n",
    "    date_list.append(past)\n",
    "\n",
    "date_strings = [d.strftime('%Y%m%d'+'1600') for d in date_list]\n",
    "print(date_strings[18:])"
   ]
  },
  {
   "cell_type": "markdown",
   "metadata": {},
   "source": [
    "<h5>30 Day API Request</h5>\n",
    "<p> This for loop iterates through list of dates making an API call each time, you have to reply with 'y' in order to continue through the list. This is to prevent the API from going haywire and wasting your requests. Dumps JSON files into code folder  </p>"
   ]
  },
  {
   "cell_type": "code",
   "execution_count": 20,
   "metadata": {},
   "outputs": [
    {
     "name": "stdout",
     "output_type": "stream",
     "text": [
      "['201811151600', '201811141600', '201811131600', '201811121600', '201811111600', '201811101600', '201811091600', '201811081600', '201811071600', '201811061600', '201811051600', '201811041600']\n",
      "all good?: y\n",
      "all good?: y\n",
      "all good?: y\n",
      "all good?: y\n",
      "all good?: y\n",
      "all good?: y\n",
      "all good?: y\n",
      "all good?: y\n",
      "all good?: y\n",
      "all good?: y\n",
      "all good?: y\n",
      "all good?: y\n",
      "all good?: y\n",
      "all good?: y\n",
      "all good?: y\n",
      "all good?: y\n",
      "all good?: y\n",
      "all good?: y\n",
      "all good?: y\n",
      "all good?: y\n",
      "all good?: y\n",
      "all good?: y\n",
      "all good?: y\n",
      "all good?: y\n",
      "all good?: y\n",
      "all good?: y\n",
      "all good?: y\n",
      "all good?: y\n",
      "all good?: y\n",
      "all good?: y\n"
     ]
    }
   ],
   "source": [
    "# Iterate through each date with api requests and write to JSON file\n",
    "for i in date_strings:  \n",
    "    search_headers = {\n",
    "        'Authorization': 'Bearer {}'.format(access_token)    \n",
    "    }\n",
    "\n",
    "    search_params = {\n",
    "        'query': 'ABX OR barrick gold',\n",
    "        'toDate': '{}'.format(i)\n",
    "    }\n",
    "\n",
    "    search_url = '{}1.1/tweets/search/30day/dev.json'.format(base_url)\n",
    "\n",
    "    search_resp = requests.get(search_url, headers=search_headers, params=search_params)\n",
    "\n",
    "    search_resp.status_code\n",
    "\n",
    "    tweet_data = search_resp.json()\n",
    "\n",
    "    with open('data_{}.json'.format(i), 'w') as outfile:\n",
    "        json.dump(tweet_data, outfile)\n",
    "    \n",
    "    good = str(input(\"all good?: \"))\n",
    "    if (good == 'y'):\n",
    "        pass\n",
    "    else:\n",
    "        break"
   ]
  },
  {
   "cell_type": "code",
   "execution_count": null,
   "metadata": {},
   "outputs": [],
   "source": []
  }
 ],
 "metadata": {
  "kernelspec": {
   "display_name": "Python 3",
   "language": "python",
   "name": "python3"
  },
  "language_info": {
   "codemirror_mode": {
    "name": "ipython",
    "version": 3
   },
   "file_extension": ".py",
   "mimetype": "text/x-python",
   "name": "python",
   "nbconvert_exporter": "python",
   "pygments_lexer": "ipython3",
   "version": "3.6.5"
  }
 },
 "nbformat": 4,
 "nbformat_minor": 2
}
